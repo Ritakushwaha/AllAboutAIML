{
 "cells": [
  {
   "cell_type": "code",
   "execution_count": 10,
   "metadata": {},
   "outputs": [
    {
     "name": "stderr",
     "output_type": "stream",
     "text": [
      "[nltk_data] Downloading package punkt to /Users/apple/nltk_data...\n",
      "[nltk_data]   Package punkt is already up-to-date!\n"
     ]
    },
    {
     "data": {
      "text/plain": [
       "True"
      ]
     },
     "execution_count": 10,
     "metadata": {},
     "output_type": "execute_result"
    }
   ],
   "source": [
    "#!pip3 install nltk"
   ]
  },
  {
   "cell_type": "code",
   "execution_count": 14,
   "metadata": {},
   "outputs": [
    {
     "name": "stdout",
     "output_type": "stream",
     "text": [
      "['Hi Rita, How are you doing?', 'I will be travelling to Goa.', \"Let's Catchup!\"]\n",
      "['Hi', 'Rita', ',', 'How', 'are', 'you', 'doing', '?', 'I', 'will', 'be', 'travelling', 'to', 'Goa', '.', 'Let', \"'s\", 'Catchup', '!']\n"
     ]
    }
   ],
   "source": [
    "# Tokenization is the process of breaking the text into smaller parts called tokens.\n",
    "\n",
    "# import nltk\n",
    "# nltk.download('punkt')\n",
    "\n",
    "from nltk.tokenize import sent_tokenize, word_tokenize\n",
    "text = \"Hi Rita, How are you doing? I will be travelling to Goa. Let's Catchup!\"\n",
    "\n",
    "# Sentence Tokenization\n",
    "sentences = sent_tokenize(text)\n",
    "print(sentences)\n",
    "\n",
    "# Word Tokenization\n",
    "words = word_tokenize(text)\n",
    "print(words)"
   ]
  },
  {
   "cell_type": "code",
   "execution_count": 56,
   "metadata": {},
   "outputs": [
    {
     "name": "stdout",
     "output_type": "stream",
     "text": [
      "run\n",
      "runner\n",
      "ran\n",
      "rain\n",
      "decreas\n",
      "easili\n",
      "increas\n"
     ]
    }
   ],
   "source": [
    "# Stemming is the process of reducing a word to its word stem that affixes to suffixes and prefixes or to the roots of words known as a lemma.\n",
    "from nltk.stem import PorterStemmer\n",
    "\n",
    "stemmer = PorterStemmer()\n",
    "print(stemmer.stem(\"running\"))\n",
    "print(stemmer.stem(\"runner\"))\n",
    "print(stemmer.stem(\"ran\"))\n",
    "\n",
    "print(stemmer.stem(\"raining\"))\n",
    "print(stemmer.stem(\"decreases\"))\n",
    "\n",
    "\n",
    "print(stemmer.stem(\"easily\")) # It is not able to stem the word \"easily\" to \"easy\"\n",
    "print(stemmer.stem(\"increases\")) # It is not able to stem the word \"increases\" to \"increas\""
   ]
  },
  {
   "cell_type": "code",
   "execution_count": 35,
   "metadata": {},
   "outputs": [
    {
     "name": "stdout",
     "output_type": "stream",
     "text": [
      "run\n",
      "runner\n",
      "ran\n",
      "easily\n",
      "increase\n"
     ]
    }
   ],
   "source": [
    "# Lemmatization is the process of reducing a word to its base or root form.\n",
    "\n",
    "# import nltk\n",
    "# nltk.download('wordnet')\n",
    "\n",
    "from nltk.stem import WordNetLemmatizer\n",
    "\n",
    "lemmatizer = WordNetLemmatizer()\n",
    "print(lemmatizer.lemmatize(\"running\", pos= \"v\"))\n",
    "print(lemmatizer.lemmatize(\"runner\", pos= \"n\"))\n",
    "print(lemmatizer.lemmatize(\"ran\"))\n",
    "\n",
    "print(lemmatizer.lemmatize(\"easily\")) # It is able to lemmatize the word \"easily\" to \"easy\"\n",
    "print(lemmatizer.lemmatize(\"increases\")) # It is able to lemmatize the word \"increases\" to \"increase\""
   ]
  },
  {
   "cell_type": "code",
   "execution_count": 43,
   "metadata": {},
   "outputs": [
    {
     "data": {
      "text/plain": [
       "[('Hi', 'NNP'),\n",
       " ('Rita', 'NNP'),\n",
       " (',', ','),\n",
       " ('How', 'NNP'),\n",
       " ('are', 'VBP'),\n",
       " ('you', 'PRP'),\n",
       " ('doing', 'VBG'),\n",
       " ('?', '.'),\n",
       " ('I', 'PRP'),\n",
       " ('will', 'MD'),\n",
       " ('be', 'VB'),\n",
       " ('travelling', 'VBG'),\n",
       " ('to', 'TO'),\n",
       " ('Goa', 'NNP'),\n",
       " ('.', '.'),\n",
       " ('Let', 'NNP'),\n",
       " (\"'s\", 'POS'),\n",
       " ('Catchup', 'NNP'),\n",
       " ('!', '.')]"
      ]
     },
     "execution_count": 43,
     "metadata": {},
     "output_type": "execute_result"
    }
   ],
   "source": [
    "# Part of Speech Tagging is the process of marking up a word in a text as corresponding to a particular part of speech, based on both its definition and its context.\n",
    "\n",
    "# import nltk\n",
    "# nltk.download('averaged_perceptron_tagger')\n",
    "\n",
    "from nltk import pos_tag\n",
    "from nltk.tokenize import sent_tokenize, word_tokenize\n",
    "\n",
    "tokens = word_tokenize(\"Hi Rita, How are you doing? I will be travelling to Goa. Let's Catchup!\")\n",
    "pos_tag(tokens)"
   ]
  },
  {
   "cell_type": "code",
   "execution_count": 51,
   "metadata": {},
   "outputs": [
    {
     "data": {
      "text/plain": [
       "[Synset('computer.n.01'), Synset('calculator.n.01')]"
      ]
     },
     "execution_count": 51,
     "metadata": {},
     "output_type": "execute_result"
    }
   ],
   "source": [
    "from nltk.corpus import wordnet\n",
    "wordnet.synsets('computer') # It will return the synonyms of the word \"computer\""
   ]
  },
  {
   "cell_type": "code",
   "execution_count": 52,
   "metadata": {},
   "outputs": [
    {
     "name": "stdout",
     "output_type": "stream",
     "text": [
      "{\"you've\", 'hers', 'hasn', \"she's\", 'they', 'too', \"needn't\", 'themselves', 'most', 'other', 'their', 'we', \"you're\", 'before', 'in', 'few', 'yours', 'theirs', 'didn', 'me', 're', 'm', 'that', 'him', 'my', 'until', 'again', \"shan't\", 'above', 'from', 'against', 'will', 'am', \"it's\", 'aren', 'do', 'haven', 'which', \"you'll\", 'ourselves', 'further', 'did', 'with', 'who', 'below', 'on', 'her', 'been', 'when', 'doing', 'an', 'couldn', 'whom', 'as', 'd', 'y', 'each', 'some', 'only', 'of', 'same', 'about', 't', 'are', 'under', \"wouldn't\", \"didn't\", 'such', 'off', 'after', 'ours', 'a', 'where', \"couldn't\", 'is', \"haven't\", 'all', 'very', 's', 'o', 'now', 'ma', 'wasn', 'you', \"you'd\", 'won', 'it', 'i', 'she', 'the', 'mustn', 'here', 'itself', 'shan', \"doesn't\", 'yourselves', \"shouldn't\", 'them', 'needn', 'your', 'own', 'these', 'should', \"mightn't\", 'what', 'to', 'mightn', 'his', 'out', 'by', 'both', 'our', \"should've\", 'had', 'if', 'how', 'its', \"isn't\", 'than', 'into', 'between', 'because', 'having', 'just', 'was', 'herself', 'hadn', 'wouldn', 'up', 'ain', 'don', 'but', 'he', 'once', \"hasn't\", \"wasn't\", 'or', 'll', 'being', 'weren', 'during', \"mustn't\", 'shouldn', 'and', 'there', 'then', 'can', 'isn', 'why', \"don't\", 'those', \"aren't\", 'this', 'while', 've', \"weren't\", 'himself', 'doesn', 'have', 'any', \"hadn't\", 'has', 'down', 'were', 'no', 'for', 'more', \"that'll\", 'myself', 'does', 'not', \"won't\", 'nor', 'yourself', 'be', 'so', 'at', 'over', 'through'}\n"
     ]
    }
   ],
   "source": [
    "from nltk.corpus import stopwords\n",
    "# import nltk\n",
    "# nltk.download('stopwords')\n",
    "\n",
    "stop_words = set(stopwords.words('english')) # It will return the list of stopwords in English language\n",
    "print(stop_words)"
   ]
  },
  {
   "cell_type": "code",
   "execution_count": 55,
   "metadata": {},
   "outputs": [
    {
     "name": "stdout",
     "output_type": "stream",
     "text": [
      "('Hi', 'Rita')\n",
      "('Rita', ',')\n",
      "(',', 'How')\n",
      "('How', 'are')\n",
      "('are', 'you')\n",
      "('you', 'doing')\n",
      "('doing', '?')\n",
      "('?', 'I')\n",
      "('I', 'will')\n",
      "('will', 'be')\n",
      "('be', 'travelling')\n",
      "('travelling', 'to')\n",
      "('to', 'Goa')\n",
      "('Goa', '.')\n",
      "('.', 'Let')\n",
      "('Let', \"'s\")\n",
      "(\"'s\", 'Catchup')\n",
      "('Catchup', '!')\n"
     ]
    }
   ],
   "source": [
    "# n-grams is a contiguous sequence of n items from a given sample of text or speech.\n",
    "# n-grams of texts are extensively used in text mining and natural language processing tasks.\n",
    "# They are basically a set of co-occuring words within a given window and when computing the n-grams you typically move one word forward (although you can move X words forward in more advanced scenarios).\n",
    "\n",
    "from nltk.util import ngrams\n",
    "\n",
    "text = \"Hi Rita, How are you doing? I will be travelling to Goa. Let's Catchup!\"\n",
    "tokens = word_tokenize(text)\n",
    "for i in ngrams(tokens, 2): # It will return the bigrams\n",
    "    print(i)"
   ]
  },
  {
   "cell_type": "code",
   "execution_count": 58,
   "metadata": {},
   "outputs": [
    {
     "name": "stdout",
     "output_type": "stream",
     "text": [
      "[('data', 'science'), ('science', 'is'), ('is', 'fun')]\n"
     ]
    }
   ],
   "source": [
    "text = 'data science is fun'\n",
    "print(list(ngrams(word_tokenize(text), 2)))"
   ]
  },
  {
   "cell_type": "code",
   "execution_count": 59,
   "metadata": {},
   "outputs": [
    {
     "name": "stdout",
     "output_type": "stream",
     "text": [
      "controlling\n"
     ]
    }
   ],
   "source": [
    "lemm = WordNetLemmatizer()\n",
    "print(lemm.lemmatize('controlling'))"
   ]
  }
 ],
 "metadata": {
  "kernelspec": {
   "display_name": "venv",
   "language": "python",
   "name": "python3"
  },
  "language_info": {
   "codemirror_mode": {
    "name": "ipython",
    "version": 3
   },
   "file_extension": ".py",
   "mimetype": "text/x-python",
   "name": "python",
   "nbconvert_exporter": "python",
   "pygments_lexer": "ipython3",
   "version": "3.12.4"
  }
 },
 "nbformat": 4,
 "nbformat_minor": 2
}
