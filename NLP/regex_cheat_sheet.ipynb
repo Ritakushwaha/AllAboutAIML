{
 "cells": [
  {
   "cell_type": "markdown",
   "metadata": {},
   "source": [
    "# Regex Cheatsheet\n",
    "\n",
    "## Regular expressions are used to match patterns in strings. The Python re module provides support for regular expressions in python. \n",
    "\n",
    "### The following are some of the most commonly used functions and character classes in the re module. "
   ]
  },
  {
   "cell_type": "code",
   "execution_count": 1,
   "metadata": {},
   "outputs": [],
   "source": [
    "# import the necessary packages\n",
    "import re"
   ]
  },
  {
   "cell_type": "markdown",
   "metadata": {},
   "source": [
    "### Containers"
   ]
  },
  {
   "cell_type": "markdown",
   "metadata": {},
   "source": [
    "#### 1. [a-z], [A-Z], [0-9]\n",
    "Matches any single character within the specified range:\n",
    "- `[a-z]` matches any lowercase alphabet from `a` to `z`.\n",
    "- `[A-Z]` matches any uppercase alphabet from `A` to `Z`.\n",
    "- `[0-9]` matches any digit from `0` to `9`."
   ]
  },
  {
   "cell_type": "code",
   "execution_count": 2,
   "metadata": {},
   "outputs": [
    {
     "name": "stdout",
     "output_type": "stream",
     "text": [
      "Lowercase a-k: ['a', 'b', 'c', 'g', 'h', 'i']\n",
      "Uppercase A-Z: ['D', 'E', 'F', 'J', 'K', 'L']\n",
      "Digits 0-9: ['1', '2', '3', '4', '5', '6']\n"
     ]
    }
   ],
   "source": [
    "text = \"abcDEF123ghiJKL456\"\n",
    "pattern_lower = r'[a-z]'\n",
    "pattern_upper = r'[A-Z]'\n",
    "pattern_digit = r'[0-9]'\n",
    "\n",
    "matches_lower = re.findall(pattern_lower, text)\n",
    "matches_upper = re.findall(pattern_upper, text)\n",
    "matches_digit = re.findall(pattern_digit, text)\n",
    "\n",
    "print(\"Lowercase a-k:\", matches_lower)  # Output: ['a', 'b', 'c', 'g', 'h', 'i', 'j']\n",
    "print(\"Uppercase A-Z:\", matches_upper)  # Output: ['D', 'E', 'F', 'J', 'K', 'L']\n",
    "print(\"Digits 0-9:\", matches_digit)     # Output: ['1', '2', '3', '4', '5', '6']"
   ]
  },
  {
   "cell_type": "markdown",
   "metadata": {},
   "source": [
    "#### 2. [dyma ]\n",
    "Matches either `d`, `y`, `m`, `a`, or a space. Each character in the character class is matched individually, not as a sequence."
   ]
  },
  {
   "cell_type": "code",
   "execution_count": 3,
   "metadata": {},
   "outputs": [
    {
     "name": "stdout",
     "output_type": "stream",
     "text": [
      "['d', 'y', 'a', 'm', 'a', 'y', ' ', 'y', 'd', ' ', 'a', 'a']\n"
     ]
    }
   ],
   "source": [
    "text = \"dynamically typed language\"\n",
    "pattern = r'[dyma ]'\n",
    "matches = re.findall(pattern, text)\n",
    "print(matches)\n",
    "\n",
    "# The character class [dyma ] will match any of the characters 'd', 'y', 'm', 'a', or ' ' (space) in the string.\n",
    "# It matches each occurrence of these characters in the string individually.\n",
    "# The matches are returned in the order they appear in the string."
   ]
  },
  {
   "cell_type": "markdown",
   "metadata": {},
   "source": [
    "#### 3. [^ab]\n",
    "Matches any character excluding `a` or `b`."
   ]
  },
  {
   "cell_type": "code",
   "execution_count": 4,
   "metadata": {},
   "outputs": [
    {
     "name": "stdout",
     "output_type": "stream",
     "text": [
      "['c', 'd', 'e', 'f', 'g', 'c', 'c', 'd', 'd']\n"
     ]
    }
   ],
   "source": [
    "text = \"abcdefgaabbccdad\"\n",
    "pattern = r'[^ab]'\n",
    "matches = re.findall(pattern, text)\n",
    "print(matches)\n",
    "\n",
    "# The pattern [^ab] will match any character that is not 'a' or 'b' in the string.\n",
    "# It matches each occurrence of these characters in the string individually.\n",
    "# The matches are returned in the order they appear in the string."
   ]
  },
  {
   "cell_type": "markdown",
   "metadata": {},
   "source": [
    "### Regular Expression Character Classes"
   ]
  },
  {
   "cell_type": "markdown",
   "metadata": {},
   "source": [
    "#### 1. \\w\n",
    "Matches an alphanumeric character, i.e., `a-z`, `A-Z`, `0-9`, and underscore, `_`."
   ]
  },
  {
   "cell_type": "code",
   "execution_count": 5,
   "metadata": {},
   "outputs": [
    {
     "name": "stdout",
     "output_type": "stream",
     "text": [
      "['H', 'e', 'l', 'l', 'o', '_', 'w', 'o', 'r', 'l', 'd', '1']\n"
     ]
    }
   ],
   "source": [
    "text = \"Hello _ world#1;,\"\n",
    "pattern = r'\\w'\n",
    "matches = re.findall(pattern, text)\n",
    "print(matches)  # Output: ['H', 'e', 'l', 'l', 'o', '_', 'w', 'o', 'r', 'l', 'd', '1', '2', '3']"
   ]
  },
  {
   "cell_type": "markdown",
   "metadata": {},
   "source": [
    "#### 2. \\d, \\d+, \\d*, \\d{3}\n",
    "- `\\d` matches a single digit `0-9`.\n",
    "- `\\d+` matches one or more digits.\n",
    "- `\\d*` matches zero or more digits.\n",
    "- `\\d{3}` matches exactly three digits "
   ]
  },
  {
   "cell_type": "code",
   "execution_count": 6,
   "metadata": {},
   "outputs": [
    {
     "name": "stdout",
     "output_type": "stream",
     "text": [
      "Single digit matches: ['3', '0', '0', '1', '5', '7']\n",
      "One or more digits matches: ['300', '15', '7']\n",
      "Zero or more digits matches: ['', '', '', '', '', '', '', '', '', '', '300', '', '', '', '', '', '', '', '15', '', '', '', '', '', '', '', '', '', '', '', '7', '', '', '', '', '', '', '', '']\n",
      "Exactly three digits matches: ['300']\n"
     ]
    }
   ],
   "source": [
    "\n",
    "text = \"There are 300 cats, 15 dogs, and 7 birds.\"\n",
    "\n",
    "# \\d matches a single digit\n",
    "pattern_single = r'\\d'\n",
    "matches_single = re.findall(pattern_single, text)\n",
    "print(\"Single digit matches:\", matches_single)\n",
    "\n",
    "# \\d+ matches one or more digits\n",
    "pattern_one_or_more = r'\\d+'\n",
    "matches_one_or_more = re.findall(pattern_one_or_more, text)\n",
    "print(\"One or more digits matches:\", matches_one_or_more)\n",
    "\n",
    "# \\d* matches zero or more digits (every position in the string will match)\n",
    "pattern_zero_or_more = r'\\d*'\n",
    "matches_zero_or_more = re.findall(pattern_zero_or_more, text)\n",
    "print(\"Zero or more digits matches:\", matches_zero_or_more)\n",
    "\n",
    "# \\d{3} matches exactly three digits\n",
    "pattern_exactly_three = r'\\d{3}'\n",
    "matches_exactly_three = re.findall(pattern_exactly_three, text)\n",
    "print(\"Exactly three digits matches:\", matches_exactly_three)\n",
    "\n"
   ]
  },
  {
   "cell_type": "markdown",
   "metadata": {},
   "source": [
    "#### 3. \\D, \\D+, \\D*, \\D{3}\n",
    "\n",
    "- `\\D` matches a single non-digit character.\n",
    "- `\\D+` matches one or more non-digit characters.\n",
    "- `\\D*` matches zero or more non-digit characters.\n",
    "- `\\D{3}` matches "
   ]
  },
  {
   "cell_type": "code",
   "execution_count": 7,
   "metadata": {},
   "outputs": [
    {
     "name": "stdout",
     "output_type": "stream",
     "text": [
      "Single non-digit matches: ['T', 'h', 'e', 'r', 'e', ' ', 'a', 'r', 'e', ' ', ' ', 'c', 'a', 't', 's', ',', ' ', ' ', 'd', 'o', 'g', 's', ',', ' ', 'a', 'n', 'd', ' ', ' ', 'b', 'i', 'r', 'd', 's', '.']\n",
      "One or more non-digits matches: ['There are ', ' cats, ', ' dogs, and ', ' birds.']\n",
      "Zero or more non-digits matches: ['There are ', '', '', '', ' cats, ', '', '', ' dogs, and ', '', ' birds.', '']\n",
      "Exactly three non-digits matches: ['The', 're ', 'are', ' ca', 'ts,', ' do', 'gs,', ' an', ' bi', 'rds']\n"
     ]
    }
   ],
   "source": [
    "text = \"There are 300 cats, 15 dogs, and 7 birds.\"\n",
    "\n",
    "# \\D matches a single non-digit character\n",
    "pattern_single = r'\\D'\n",
    "matches_single = re.findall(pattern_single, text)\n",
    "print(\"Single non-digit matches:\", matches_single)\n",
    "\n",
    "# \\D+ matches one or more non-digit characters\n",
    "pattern_one_or_more = r'\\D+'\n",
    "matches_one_or_more = re.findall(pattern_one_or_more, text)\n",
    "print(\"One or more non-digits matches:\", matches_one_or_more)\n",
    "\n",
    "# \\D* matches zero or more non-digit characters (every position in the string will match)\n",
    "pattern_zero_or_more = r'\\D*'\n",
    "matches_zero_or_more = re.findall(pattern_zero_or_more, text)\n",
    "print(\"Zero or more non-digits matches:\", matches_zero_or_more)\n",
    "# Output: ['There are ', '', '', ' cats, ', '', '', ' dogs, and ', '', ' birds.', '', '']\n",
    "\n",
    "# \\D{3} matches exactly three non-digit characters\n",
    "pattern_exactly_three = r'\\D{3}'\n",
    "matches_exactly_three = re.findall(pattern_exactly_three, text)\n",
    "print(\"Exactly three non-digits matches:\", matches_exactly_three)"
   ]
  },
  {
   "cell_type": "markdown",
   "metadata": {},
   "source": [
    "#### 4. \\s, \\s{2}, \\s+, \\s*\n",
    "- `\\s` matches a single whitespace character (space, tab, newline).\n",
    "- `\\s{2}` matches exactly two consecutive whitespace characters.\n",
    "- `\\s+` matches one or more consecutive whitespace characters.\n",
    "- `\\s*` matches zero or more consecutive whitespace characters."
   ]
  },
  {
   "cell_type": "code",
   "execution_count": 8,
   "metadata": {},
   "outputs": [
    {
     "name": "stdout",
     "output_type": "stream",
     "text": [
      "Single whitespace matches: [' ', ' ', ' ', ' ', ' ', ' ', ' ']\n",
      "Exactly two whitespace matches: ['  ']\n",
      "One or more whitespace matches: [' ', ' ', '  ', ' ', ' ', ' ']\n",
      "Zero or more whitespace matches: ['', '', '', '', '', ' ', '', '', '', ' ', '', '  ', '', '', '', '', ' ', '', '', '', ' ', '', ' ', '', '', '', '', '', '']\n"
     ]
    }
   ],
   "source": [
    "text = \"There are 3  cats and 4 dogs.\"\n",
    "\n",
    "# \\s matches any whitespace character\n",
    "pattern = r'\\s'\n",
    "matches = re.findall(pattern, text)\n",
    "print(\"Single whitespace matches:\", matches)\n",
    "\n",
    "# \\s{2} matches exactly two whitespace characters\n",
    "pattern = r'\\s{2}'\n",
    "matches = re.findall(pattern, text)\n",
    "print(\"Exactly two whitespace matches:\", matches)\n",
    "\n",
    "# \\s+ matches one or more whitespace characters\n",
    "pattern = r'\\s+'\n",
    "matches = re.findall(pattern, text)\n",
    "print(\"One or more whitespace matches:\", matches)\n",
    "\n",
    "# \\s* matches zero or more whitespace characters\n",
    "pattern = r'\\s*'\n",
    "matches = re.findall(pattern, text)\n",
    "print(\"Zero or more whitespace matches:\", matches)\n",
    "\n",
    "# - The pattern \\s matches any single whitespace character in the string.\n",
    "# - The pattern \\s{2} matches exactly two consecutive whitespace characters in the string.\n",
    "# - The pattern \\s+ matches one or more consecutive whitespace characters in the string.\n",
    "# - The pattern \\s* matches zero or more consecutive whitespace characters in the string, including empty strings between non-whitespace characters.\n"
   ]
  },
  {
   "cell_type": "markdown",
   "metadata": {},
   "source": [
    "#### 5. \\S, \\S{2}, \\S+, \\S*\n",
    "- `\\S` matches any single non-whitespace character.\n",
    "- `\\S{2}` matches exactly two consecutive non-whitespace characters.\n",
    "- `\\S+` matches one or more consecutive non-whitespace characters.\n",
    "- `\\S*` matches zero or more consecutive non-whitespace characters."
   ]
  },
  {
   "cell_type": "code",
   "execution_count": 9,
   "metadata": {},
   "outputs": [
    {
     "name": "stdout",
     "output_type": "stream",
     "text": [
      "Single non-whitespace matches: ['T', 'h', 'e', 'r', 'e', 'a', 'r', 'e', '3', 'c', 'a', 't', 's', 'a', 'n', 'd', '4', 'd', 'o', 'g', 's', '.']\n",
      "Exactly two non-whitespace matches: ['Th', 'er', 'ar', 'ca', 'ts', 'an', 'do', 'gs']\n",
      "One or more non-whitespace matches: ['There', 'are', '3', 'cats', 'and', '4', 'dogs.']\n",
      "Zero or more non-whitespace matches: ['There', '', 'are', '', '3', '', '', 'cats', '', 'and', '', '4', '', 'dogs.', '']\n"
     ]
    }
   ],
   "source": [
    "# \\S matches any non-whitespace character\n",
    "pattern = r'\\S'\n",
    "matches = re.findall(pattern, text)\n",
    "print(\"Single non-whitespace matches:\", matches)\n",
    "\n",
    "# \\S{2} matches exactly two non-whitespace characters\n",
    "pattern = r'\\S{2}'\n",
    "matches = re.findall(pattern, text)\n",
    "print(\"Exactly two non-whitespace matches:\", matches)\n",
    "\n",
    "# \\S+ matches one or more non-whitespace characters\n",
    "pattern = r'\\S+'\n",
    "matches = re.findall(pattern, text)\n",
    "print(\"One or more non-whitespace matches:\", matches)\n",
    "\n",
    "# \\S* matches zero or more non-whitespace characters\n",
    "pattern = r'\\S*'\n",
    "matches = re.findall(pattern, text)\n",
    "print(\"Zero or more non-whitespace matches:\", matches)\n",
    "\n",
    "# - The pattern \\S matches any single non-whitespace character in the string.\n",
    "# - The pattern \\S{2} matches exactly two consecutive non-whitespace characters in the string.\n",
    "# - The pattern \\S+ matches one or more consecutive non-whitespace characters in the string.\n",
    "# - The pattern \\S* matches zero or more consecutive non-whitespace characters, including empty strings between whitespace characters."
   ]
  },
  {
   "cell_type": "markdown",
   "metadata": {},
   "source": [
    "### Special Characters"
   ]
  },
  {
   "cell_type": "markdown",
   "metadata": {},
   "source": [
    "#### 1. `.` (dot)\n",
    "- `.` matches any single character except newline (`\\n`)."
   ]
  },
  {
   "cell_type": "code",
   "execution_count": 10,
   "metadata": {},
   "outputs": [
    {
     "name": "stdout",
     "output_type": "stream",
     "text": [
      "['cat', 'mat', 'bat', 'rat', 'pat', 'hat', 'sat']\n"
     ]
    }
   ],
   "source": [
    "text = '''catty mat bat ratty pattty hat sat'''\n",
    "pattern = r'.at'\n",
    "matches = re.findall(pattern, text)\n",
    "print(matches)\n",
    "\n",
    "# The pattern .at will match any three-character sequence that ends with \"at\" in the string.\n",
    "# It matches each occurrence of these sequences in the string individually.\n",
    "# The matches are returned in the order they appear in the string."
   ]
  },
  {
   "cell_type": "markdown",
   "metadata": {},
   "source": [
    "#### 2. `^` (caret)\n",
    "- `^` matches the beginning of a string."
   ]
  },
  {
   "cell_type": "code",
   "execution_count": 11,
   "metadata": {},
   "outputs": [
    {
     "name": "stdout",
     "output_type": "stream",
     "text": [
      "['apple']\n"
     ]
    }
   ],
   "source": [
    "text = \"apple banana cherry\"\n",
    "pattern = r'^apple'\n",
    "matches = re.findall(pattern, text)\n",
    "print(matches)\n",
    "\n",
    "# The pattern ^apple will match the word \"apple\" only if it appears at the beginning of the string.\n",
    "# In this case, the word \"apple\" is at the beginning of the string, so it is matched."
   ]
  },
  {
   "cell_type": "markdown",
   "metadata": {},
   "source": [
    "#### 3. `$` (dollar sign)\n",
    "- `$` matches the end of a string."
   ]
  },
  {
   "cell_type": "code",
   "execution_count": 12,
   "metadata": {},
   "outputs": [
    {
     "name": "stdout",
     "output_type": "stream",
     "text": [
      "['cherry']\n"
     ]
    }
   ],
   "source": [
    "text = \"apple banana cherry\"\n",
    "pattern = r'cherry$'\n",
    "matches = re.findall(pattern, text)\n",
    "print(matches)\n",
    "\n",
    "# The pattern cherry$ will match the word \"cherry\" only if it appears at the end of the string.\n",
    "# In this case, the word \"cherry\" is at the end of the string, so it is matched."
   ]
  },
  {
   "cell_type": "markdown",
   "metadata": {},
   "source": [
    "#### 4. `\\` (backslash)\n",
    "- `\\` escapes special characters in regular expressions."
   ]
  },
  {
   "cell_type": "code",
   "execution_count": 13,
   "metadata": {},
   "outputs": [
    {
     "name": "stdout",
     "output_type": "stream",
     "text": [
      "['$', '.', '.', '&', '.']\n"
     ]
    }
   ],
   "source": [
    "text = \"The price is $10.99. & The item is in stock.\"\n",
    "pattern = r'\\$|\\&|\\.'\n",
    "matches = re.findall(pattern, text)\n",
    "print(matches)\n",
    "\n",
    "# The pattern \\$|\\. will match either the dollar sign \"$\" or the period \".\" in the string.\n",
    "# It matches each occurrence of these characters in the string individually.\n",
    "# The matches are returned in the order they appear in the string."
   ]
  },
  {
   "cell_type": "markdown",
   "metadata": {},
   "source": [
    "#### 5. `*` (asterisk)\n",
    "- `*` greedily matches the expression to its left 0 or more times."
   ]
  },
  {
   "cell_type": "code",
   "execution_count": 14,
   "metadata": {},
   "outputs": [
    {
     "name": "stdout",
     "output_type": "stream",
     "text": [
      "['', '', 'ccccc', '', '', '', '', 'c', '', '', '', 'ccc', '']\n"
     ]
    }
   ],
   "source": [
    "text = \"abcccccdef cat ccc\" \n",
    "pattern = r'c*'\n",
    "matches = re.findall(pattern, text)\n",
    "print(matches)\n",
    "\n",
    "# The pattern c* will match zero or more occurrences of the character 'c' in the string.\n",
    "# It matches each occurrence of these characters in the string individually.\n",
    "# The matches are returned in the order they appear in the string."
   ]
  },
  {
   "cell_type": "markdown",
   "metadata": {},
   "source": [
    "#### 6. `+` (plus sign)\n",
    "- `+` greedily matches the expression to its left 1 or more times."
   ]
  },
  {
   "cell_type": "code",
   "execution_count": 15,
   "metadata": {},
   "outputs": [
    {
     "name": "stdout",
     "output_type": "stream",
     "text": [
      "['ccccc']\n"
     ]
    }
   ],
   "source": [
    "text = \"abcccccdef\"\n",
    "pattern = r'c+'\n",
    "matches = re.findall(pattern, text)\n",
    "print(matches)\n",
    "\n",
    "# The pattern c+ will match one or more occurrences of the character 'c' in the string.\n",
    "# It matches each occurrence of these characters in the string individually.\n",
    "# The matches are returned in the order they appear in the string."
   ]
  },
  {
   "cell_type": "markdown",
   "metadata": {},
   "source": [
    "#### 7. `*?` or `+?` (non-greedy matching)\n",
    "- `*?` and `+?` match the expression to their left 0 or more times and 1 or more times, respectively, but in a non-greedy or minimal fashion."
   ]
  },
  {
   "cell_type": "code",
   "execution_count": 16,
   "metadata": {},
   "outputs": [
    {
     "name": "stdout",
     "output_type": "stream",
     "text": [
      "['', '', '', 'c', '', 'c', '', 'c', '', 'c', '', 'c', '', '', '', '']\n",
      "['c', 'c', 'c', 'c', 'c']\n"
     ]
    }
   ],
   "source": [
    "\n",
    "text = \"abcccccdef\"\n",
    "\n",
    "# Non-greedy matching with *\n",
    "pattern_star = r'c*?'\n",
    "matches_star = re.findall(pattern_star, text)\n",
    "print(matches_star)  # Output: ['', 'c', '', '', '', '', '']\n",
    "\n",
    "# Non-greedy matching with +\n",
    "pattern_plus = r'c+?'\n",
    "matches_plus = re.findall(pattern_plus, text)\n",
    "print(matches_plus)  # Output: ['c']\n",
    "\n",
    "# The pattern c*? will match zero or more occurrences of the character 'c' in the string in a non-greedy way.\n",
    "# It matches each occurrence of these characters in the string individually.\n",
    "# The matches are returned in the order they appear in the string.\n",
    "\n",
    "# The pattern c+? will match one or more occurrences of the character 'c' in the string in a non-greedy way.\n",
    "# It matches each occurrence of these characters in the string individually.\n",
    "# The matches are returned in the order they appear in the string."
   ]
  },
  {
   "cell_type": "markdown",
   "metadata": {},
   "source": [
    "#### 8. `{m}` (quantifier)\n",
    "- `{m}` matches the expression to its left exactly m times."
   ]
  },
  {
   "cell_type": "code",
   "execution_count": 17,
   "metadata": {},
   "outputs": [
    {
     "name": "stdout",
     "output_type": "stream",
     "text": [
      "['cccc']\n"
     ]
    }
   ],
   "source": [
    "text = \"abcccccdef\"\n",
    "pattern = r'c{4}'\n",
    "matches = re.findall(pattern, text)\n",
    "print(matches)"
   ]
  },
  {
   "cell_type": "markdown",
   "metadata": {},
   "source": [
    "### Basic RE Module Functions"
   ]
  },
  {
   "cell_type": "markdown",
   "metadata": {},
   "source": [
    "#### 1. `re.match(x, y)`\n",
    "- `re.match(x, y)` attempts to match the pattern `x` at the beginning of the string `y`."
   ]
  },
  {
   "cell_type": "code",
   "execution_count": 18,
   "metadata": {},
   "outputs": [
    {
     "name": "stdout",
     "output_type": "stream",
     "text": [
      "Match found: Hello\n"
     ]
    }
   ],
   "source": [
    "text = \"Hello, World!\"\n",
    "pattern = r'Hello'\n",
    "match = re.match(pattern, text)\n",
    "\n",
    "if match:\n",
    "    print(\"Match found:\", match.group())\n",
    "else:\n",
    "    print(\"No match found\")\n",
    "\n",
    "# The re.match() function is used to match a pattern at the beginning of a string.\n",
    "# If the pattern is found at the beginning of the string, the match object is returned.\n",
    "# Otherwise, None is returned.\n",
    "# The match object has a group() method that returns the matched string."
   ]
  },
  {
   "cell_type": "markdown",
   "metadata": {},
   "source": [
    "#### 2. re.search(x, y)\n",
    "- `re.search(x, y)` searches for the first occurrence of the pattern `x` in the string `y`."
   ]
  },
  {
   "cell_type": "code",
   "execution_count": 19,
   "metadata": {},
   "outputs": [
    {
     "name": "stdout",
     "output_type": "stream",
     "text": [
      "Match found: is\n"
     ]
    }
   ],
   "source": [
    "text = \"Python is fun\"\n",
    "pattern = r\"is\"\n",
    "match = re.search(pattern, text)\n",
    "\n",
    "if match:\n",
    "    print(\"Match found:\", match.group())\n",
    "else:\n",
    "    print(\"No match found\")\n",
    "\n",
    "# The re.search() function is used to search for a pattern in a string.\n",
    "# If the pattern is found in the string, the match object is returned.\n",
    "# Otherwise, None is returned.\n",
    "# The match object has a group() method that returns the matched string."
   ]
  },
  {
   "cell_type": "markdown",
   "metadata": {},
   "source": [
    "#### 3. re.finditer(x, y)\n",
    "`re.finditer(x, y)` returns an iterator of all match objects of the pattern `x` in the string `y`."
   ]
  },
  {
   "cell_type": "code",
   "execution_count": 20,
   "metadata": {},
   "outputs": [
    {
     "name": "stdout",
     "output_type": "stream",
     "text": [
      "Match found: hello\n",
      "Match found: hello\n"
     ]
    }
   ],
   "source": [
    "text = \"Hello, hello, hello\"\n",
    "pattern = r'hello'\n",
    "matches = re.finditer(pattern, text)\n",
    "\n",
    "for match in matches:\n",
    "    print(\"Match found:\", match.group())\n",
    "\n",
    "# The re.finditer() function is used to find all occurrences of a pattern in a string.\n",
    "# It returns an iterator that yields match objects for each occurrence of the pattern in the string.\n",
    "# The match object has a group() method that returns the matched string."
   ]
  },
  {
   "cell_type": "markdown",
   "metadata": {},
   "source": [
    "#### 4. re.subn(x, y, z)\n",
    "`re.subn(x, y, z)` replaces occurrences of pattern `x` with `y` in the string `z`, returning a tuple of the new string and the number of substitutions made."
   ]
  },
  {
   "cell_type": "code",
   "execution_count": 21,
   "metadata": {},
   "outputs": [
    {
     "name": "stdout",
     "output_type": "stream",
     "text": [
      "Modified text: Java is great. Java is awesome.\n",
      "Number of substitutions: 2\n"
     ]
    }
   ],
   "source": [
    "text = \"Python is great. Python is awesome.\"\n",
    "pattern = r'Python'\n",
    "new_text, count = re.subn(pattern, 'Java', text)\n",
    "\n",
    "print(\"Modified text:\", new_text)\n",
    "print(\"Number of substitutions:\", count)\n",
    "\n",
    "# The re.subn() function is used to substitute all occurrences of a pattern in a string with a replacement string.\n",
    "# It returns a tuple containing the modified string and the number of substitutions made."
   ]
  },
  {
   "cell_type": "markdown",
   "metadata": {},
   "source": [
    "#### 5. re.split(x, y)\n",
    "`re.split(x, y)` splits the string `y` by the occurrences of pattern `x`."
   ]
  },
  {
   "cell_type": "code",
   "execution_count": 22,
   "metadata": {},
   "outputs": [
    {
     "name": "stdout",
     "output_type": "stream",
     "text": [
      "Split parts: ['apple', 'banana', 'cherry']\n"
     ]
    }
   ],
   "source": [
    "text = \"apple, banana, cherry\"\n",
    "pattern = r', '\n",
    "parts = re.split(pattern, text)\n",
    "\n",
    "print(\"Split parts:\", parts)\n",
    "\n",
    "# The re.split() function is used to split a string into a list of substrings based on a pattern.\n",
    "# It returns a list of substrings that are separated by the pattern in the string."
   ]
  },
  {
   "cell_type": "markdown",
   "metadata": {},
   "source": [
    "#### 6. re.compile(x)\n",
    "`re.compile(x)` compiles the pattern `x` into a regular expression object for efficient reuse."
   ]
  },
  {
   "cell_type": "code",
   "execution_count": 23,
   "metadata": {},
   "outputs": [
    {
     "name": "stdout",
     "output_type": "stream",
     "text": [
      "Matches: ['123', '456']\n"
     ]
    }
   ],
   "source": [
    "pattern = re.compile(r'\\d+')\n",
    "text = \"There are 123 cats and 456 dogs.\"\n",
    "matches = pattern.findall(text)\n",
    "\n",
    "print(\"Matches:\", matches)"
   ]
  },
  {
   "cell_type": "markdown",
   "metadata": {},
   "source": [
    "#### 7. re.fullmatch(x, y)\n",
    "`re.fullmatch(x, y)` matches the pattern `x` against the entire string `y`."
   ]
  },
  {
   "cell_type": "code",
   "execution_count": 24,
   "metadata": {},
   "outputs": [
    {
     "name": "stdout",
     "output_type": "stream",
     "text": [
      "Full match found: 123\n"
     ]
    }
   ],
   "source": [
    "pattern = re.compile(r'\\d{3}')\n",
    "text = \"123\"\n",
    "match = pattern.fullmatch(text)\n",
    "\n",
    "if match:\n",
    "    print(\"Full match found:\", match.group())\n",
    "else:\n",
    "    print(\"No full match found\")\n",
    "\n",
    "# The re.compile() function is used to compile a regular expression pattern into a pattern object.\n",
    "# The pattern object has methods like findall(), fullmatch(), search(), etc., that can be used to match patterns in strings."
   ]
  },
  {
   "cell_type": "markdown",
   "metadata": {},
   "source": [
    "#### 8. re.escape(x)\n",
    "`re.escape(x)` escapes special characters in the string `x`, making it safe to use as a literal in a regex."
   ]
  },
  {
   "cell_type": "code",
   "execution_count": 25,
   "metadata": {},
   "outputs": [
    {
     "name": "stdout",
     "output_type": "stream",
     "text": [
      "Escaped text: Escaping\\ \\+\\ special\\.\\ characters\\?\n"
     ]
    }
   ],
   "source": [
    "text = \"Escaping + special. characters?\"\n",
    "escaped_text = re.escape(text)\n",
    "\n",
    "print(\"Escaped text:\", escaped_text)"
   ]
  },
  {
   "cell_type": "markdown",
   "metadata": {},
   "source": [
    "#### 9. re.purge()\n",
    "`re.purge()` clears the regular expression cache"
   ]
  },
  {
   "cell_type": "code",
   "execution_count": 26,
   "metadata": {},
   "outputs": [],
   "source": [
    "# Assume patterns have been compiled and cached\n",
    "re.compile(r'\\d+')\n",
    "re.compile(r'\\w+')\n",
    "\n",
    "# Clear the cache\n",
    "re.purge()"
   ]
  },
  {
   "cell_type": "markdown",
   "metadata": {},
   "source": [
    "#### 10. re.Scanner(x)\n",
    "`re.Scanner(x)` creates a scanner object for the pattern x for advanced tokenizing."
   ]
  },
  {
   "cell_type": "code",
   "execution_count": 27,
   "metadata": {},
   "outputs": [
    {
     "name": "stdout",
     "output_type": "stream",
     "text": [
      "Tokens: [('WORD', 'hello')]\n",
      "Remainder:  123\n",
      "Tokens: [('NUMBER', '123')]\n",
      "Remainder:  hello\n"
     ]
    }
   ],
   "source": [
    "scanner = re.Scanner([(r'\\w+', lambda scanner, token: (\"WORD\", token))])\n",
    "text = \"hello 123\"\n",
    "tokens, remainder = scanner.scan(text)\n",
    "\n",
    "print(\"Tokens:\", tokens)\n",
    "print(\"Remainder:\", remainder)\n",
    "\n",
    "scanner = re.Scanner([(r'\\d+', lambda scanner, token: (\"NUMBER\", token))])\n",
    "text = \"123 hello\"\n",
    "tokens, remainder = scanner.scan(text)\n",
    "\n",
    "print(\"Tokens:\", tokens)\n",
    "print(\"Remainder:\", remainder)\n",
    "\n",
    "# The re.Scanner class is used to create a scanner object that can be used to tokenize strings based on regular expressions.\n",
    "# The scanner object takes a list of regular expression patterns and corresponding action functions.\n",
    "# The scan() method is used to tokenize a string based on the patterns and actions provided.\n",
    "# It returns a list of tokens and the remaining part of the string that was not tokenized."
   ]
  },
  {
   "cell_type": "markdown",
   "metadata": {},
   "source": [
    "#### 11. re.sub(x, y, z, count)\n",
    "`re.sub(x, y, z, count)` replaces up to count occurrences of pattern `x` with `y` in the string `z`."
   ]
  },
  {
   "cell_type": "code",
   "execution_count": 28,
   "metadata": {},
   "outputs": [
    {
     "name": "stdout",
     "output_type": "stream",
     "text": [
      "Modified text: orange, banana, orange, cherry, apple\n"
     ]
    }
   ],
   "source": [
    "text = \"apple, banana, apple, cherry, apple\"\n",
    "pattern = r'apple'\n",
    "new_text = re.sub(pattern, 'orange', text, count=2)\n",
    "\n",
    "print(\"Modified text:\", new_text)\n",
    "\n",
    "# The re.sub() function is used to substitute all occurrences of a pattern in a string with a replacement string.\n",
    "# It has an optional count parameter that specifies the maximum number of substitutions to make."
   ]
  },
  {
   "cell_type": "markdown",
   "metadata": {},
   "source": [
    "#### 12. re.subn(x, y, z, count)\n",
    "`re.subn(x, y, z, count)` replaces up to count occurrences of pattern `x` with `y` in the string `z`, returning a tuple of the new string and the number of substitutions made."
   ]
  },
  {
   "cell_type": "code",
   "execution_count": 29,
   "metadata": {},
   "outputs": [
    {
     "name": "stdout",
     "output_type": "stream",
     "text": [
      "Modified text: orange, banana, orange, cherry, orange\n",
      "Number of substitutions: 3\n"
     ]
    }
   ],
   "source": [
    "text = \"apple, banana, apple, cherry, apple\"\n",
    "pattern = r'apple'\n",
    "new_text, count = re.subn(pattern, 'orange', text)\n",
    "\n",
    "print(\"Modified text:\", new_text)\n",
    "print(\"Number of substitutions:\", count)\n",
    "\n",
    "# The re.subn() function is used to substitute all occurrences of a pattern in a string with a replacement string.\n",
    "# It returns a tuple containing the modified string and the number of substitutions made."
   ]
  },
  {
   "cell_type": "markdown",
   "metadata": {},
   "source": [
    "#### 13. re.split(x, y, maxsplit)\n",
    "`re.split(x, y, maxsplit)` splits the string `y` by the occurrences of pattern `x`, with a maximum of maxsplit splits."
   ]
  },
  {
   "cell_type": "code",
   "execution_count": 30,
   "metadata": {},
   "outputs": [
    {
     "name": "stdout",
     "output_type": "stream",
     "text": [
      "Split parts: ['apple', 'banana', 'cherry-date-elderberry']\n"
     ]
    }
   ],
   "source": [
    "text = \"apple-banana-cherry-date-elderberry\"\n",
    "pattern = r'-'\n",
    "parts = re.split(pattern, text, maxsplit=2)\n",
    "\n",
    "print(\"Split parts:\", parts)\n",
    "\n",
    "# The re.split() function is used to split a string into a list of substrings based on a pattern.\n",
    "# It has an optional maxsplit parameter that specifies the maximum number of splits to make."
   ]
  },
  {
   "cell_type": "markdown",
   "metadata": {},
   "source": [
    "#### 14. re.findall(x, y)\n",
    "Matches all instances of an expression `x` in a string `y` and returns them in a list."
   ]
  },
  {
   "cell_type": "code",
   "execution_count": 31,
   "metadata": {},
   "outputs": [
    {
     "name": "stdout",
     "output_type": "stream",
     "text": [
      "['in', 'in']\n"
     ]
    }
   ],
   "source": [
    "text = \"The rain in Spain falls mainly in the plain.\"\n",
    "pattern = r'\\bin\\b'\n",
    "matches = re.findall(pattern, text)\n",
    "print(matches)\n",
    "\n",
    "# The \\b metacharacter is used to find a word boundary.\n",
    "# A word boundary is a character that is not a letter, digit or underscore.\n",
    "# A word boundary \\b matches the position between a word character (like letters or digits) and a non-word character (like spaces, punctuation, or the beginning/end of a string).\n",
    "# Here’s how \\bin\\b works in a string:\n",
    "    # \\b at the beginning: ensures that the match starts at the beginning of a word.\n",
    "    # in: matches the literal string \"in\".\n",
    "    # \\b at the end: ensures that the match ends at the boundary of a word.\n",
    "    # This means \\bin\\b will match the word \"in\" when it stands alone, not when it is a part of another word (like \"inside\" or \"beginning\")."
   ]
  },
  {
   "cell_type": "markdown",
   "metadata": {},
   "source": [
    "#### 15. re.sub(x, y, z)\n",
    "Replaces all occurrences of the expression `x` with the expression `y` in the string `z` and returns the modified string."
   ]
  },
  {
   "cell_type": "code",
   "execution_count": 32,
   "metadata": {},
   "outputs": [
    {
     "name": "stdout",
     "output_type": "stream",
     "text": [
      "The snow in Spain falls mainly in the plain.\n"
     ]
    }
   ],
   "source": [
    "text = \"The rain in Spain falls mainly in the plain.\"\n",
    "pattern = r'\\brain\\b'\n",
    "replacement = 'snow'\n",
    "result = re.sub(pattern, replacement, text)\n",
    "print(result)\n",
    "\n",
    "# The \\b metacharacter is used to find a word boundary.\n",
    "# A word boundary is a character that is not a letter, digit or underscore.\n",
    "# A word boundary \\b matches the position between a word character (like letters or digits) and a non-word character (like spaces, punctuation, or the beginning/end of a string).\n",
    "# Here’s how \\bin\\b works in a string:\n",
    "    # \\b at the beginning: ensures that the match starts at the beginning of a word.\n",
    "    # rain: matches the literal string \"rain\".\n",
    "    # \\b at the end: ensures that the match ends at the boundary of a word.\n",
    "    # This means \\brain\\b will match the word \"rain\" when it stands alone, not when it is a part of another word (like \"brain\" or \"brainstorm\")."
   ]
  }
 ],
 "metadata": {
  "kernelspec": {
   "display_name": "venv",
   "language": "python",
   "name": "python3"
  },
  "language_info": {
   "codemirror_mode": {
    "name": "ipython",
    "version": 3
   },
   "file_extension": ".py",
   "mimetype": "text/x-python",
   "name": "python",
   "nbconvert_exporter": "python",
   "pygments_lexer": "ipython3",
   "version": "3.12.4"
  }
 },
 "nbformat": 4,
 "nbformat_minor": 2
}
